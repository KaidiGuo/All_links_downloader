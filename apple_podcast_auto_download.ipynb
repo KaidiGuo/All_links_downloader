{
 "cells": [
  {
   "cell_type": "code",
   "execution_count": 4,
   "metadata": {},
   "outputs": [],
   "source": [
    "import re\n",
    "import urllib.request\n",
    "from multiprocessing.dummy import Pool as ThreadPool\n",
    "from bs4 import BeautifulSoup"
   ]
  },
  {
   "cell_type": "code",
   "execution_count": 55,
   "metadata": {},
   "outputs": [],
   "source": [
    "def getPageInfo(url):\n",
    "    # read page source     \n",
    "    link = urllib.request.urlopen(url)\n",
    "    r = link.read()\n",
    "    soup = BeautifulSoup(r, 'html.parser')\n",
    "    tag1 = soup.find(\"meta\", {\"property\" : \"og:title\"})\n",
    "    title = tag1['content']\n",
    "    print(title)\n",
    "    # find the genre of this podcast\n",
    "    tag2 = soup.find(\"meta\", {\"property\" : \"og:description\"})\n",
    "    genre = tag2['content'].split(' ')[0]\n",
    "    print(genre)\n",
    "\n",
    "    # find the data line, and extract links\n",
    "    script_content = soup.find(\"script\", {\"id\" : \"shoebox-ember-data-store\"})\n",
    "    script_content = script_content.string\n",
    "    reg = \"assetUrl\\\"\\:\\\"(https.*?)\\\"\"\n",
    "    links = re.findall(reg,str(script_content))\n",
    "    l = len(links)\n",
    "    print(\"Find {} links in the sources.\".format(l))\n",
    "    print(\"Link example: {}\".format(links[0]))\n",
    "    \n",
    "    def getmp3(link,i):\n",
    "        try:\n",
    "            name = genre +\"_\"+ title + str(i)\n",
    "            urllib.request.urlretrieve(link, '/home/kaidi/Downloads/{}.mp3'.format(name))\n",
    "        except:\n",
    "            pass\n",
    "    \n",
    "    # Download 5 files at the same time     \n",
    "    numbers = [i for i in range(0,l)]\n",
    "    pool = ThreadPool(5)\n",
    "    pool.starmap(getmp3, zip(links,numbers))\n",
    "    print(\"finished: {}\".format(title))\n",
    "    print(\"-\"*20)\n",
    "    \n",
    "    "
   ]
  },
  {
   "cell_type": "code",
   "execution_count": 59,
   "metadata": {},
   "outputs": [],
   "source": [
    "urls = ['https://podcasts.apple.com/de/podcast/endlich-mehr-sport/id1478262840']"
   ]
  },
  {
   "cell_type": "code",
   "execution_count": 60,
   "metadata": {},
   "outputs": [
    {
     "name": "stdout",
     "output_type": "stream",
     "text": [
      "Handling link: https://podcasts.apple.com/de/podcast/endlich-mehr-sport/id1478262840\n",
      "‎„Endlich mehr Sport“ auf Apple Podcasts\n",
      "‎Läufer\n",
      "Find 86 links in the sources.\n",
      "Link example: https://cdn.podigee.com/media/podcast_13911_endlich_mehr_sport_episode_247903_schweinehund_ade_so_bleibst_du_am_ball.mp3?v=1598991200\\u0026source=feed\n",
      "finished: ‎„Endlich mehr Sport“ auf Apple Podcasts\n",
      "--------------------\n"
     ]
    }
   ],
   "source": [
    "for url in urls:\n",
    "    print(\"Handling link: {}\".format(url))\n",
    "    getPageInfo(url)"
   ]
  },
  {
   "cell_type": "code",
   "execution_count": 69,
   "metadata": {},
   "outputs": [
    {
     "name": "stdout",
     "output_type": "stream",
     "text": [
      "finished\n"
     ]
    }
   ],
   "source": []
  }
 ],
 "metadata": {
  "kernelspec": {
   "display_name": "Python 3",
   "language": "python",
   "name": "python3"
  },
  "language_info": {
   "codemirror_mode": {
    "name": "ipython",
    "version": 3
   },
   "file_extension": ".py",
   "mimetype": "text/x-python",
   "name": "python",
   "nbconvert_exporter": "python",
   "pygments_lexer": "ipython3",
   "version": "3.8.3"
  }
 },
 "nbformat": 4,
 "nbformat_minor": 4
}
